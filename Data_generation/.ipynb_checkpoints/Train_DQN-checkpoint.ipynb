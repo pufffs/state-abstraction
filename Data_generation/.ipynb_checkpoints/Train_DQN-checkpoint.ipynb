{
 "cells": [
  {
   "cell_type": "code",
   "execution_count": null,
   "id": "1019b6ee-c9ae-4e30-8d6f-994857cb03ad",
   "metadata": {},
   "outputs": [],
   "source": [
    "from DQN_agent import DQN, Agent\n",
    "import gymnasium as gym"
   ]
  },
  {
   "cell_type": "code",
   "execution_count": null,
   "id": "fcfcb250-fa08-44c4-bf7b-f71f2864f39c",
   "metadata": {},
   "outputs": [],
   "source": [
    "env = gym.make(\"LunarLander-v2\")\n",
    "NUM_EPISODES = 500\n",
    "agent = Agent(8, 4, batch_size=64, n_layers=2)\n",
    "state_size = env.observation_space.shape[0]\n",
    "timestep=0\n",
    "rewards = []\n",
    "\n",
    "for episode in range(NUM_EPISODES):\n",
    "    state = env.reset()[0]\n",
    "    total_reward = 0\n",
    "    done = False\n",
    "    render_env = episode % 5 == 0\n",
    "    for step in range(500):\n",
    "        action = agent.choose_action(state)\n",
    "        next_state, reward, done, info,_ = env.step(action)\n",
    "        total_reward += reward\n",
    "        \n",
    "        agent.memorize_experience(state, action, reward, next_state, done)\n",
    "        agent.experience_replay()\n",
    "        state = next_state\n",
    "        timestep += 1  \n",
    "        if done:\n",
    "            break\n",
    "    rewards.append(total_reward)   \n",
    "    # update target network each episode\n",
    "    agent.update_target_network()\n",
    "    # decaying exploration\n",
    "    agent._epsilon = max(0.1, 0.995 * agent._epsilon) \n",
    "\n",
    "    if render_env:\n",
    "        print(f\"Episode {episode}, Reward: {total_reward}\")"
   ]
  },
  {
   "cell_type": "code",
   "execution_count": null,
   "id": "33a6f2e6-08a2-44ba-851f-fe864a78a6d8",
   "metadata": {},
   "outputs": [],
   "source": [
    "model_path = \"dqn_lunar_lander.pt\" #saving trained DQN\n",
    "torch.save(policy_net.state_dict(), model_path)"
   ]
  }
 ],
 "metadata": {
  "kernelspec": {
   "display_name": "Python (deepstate)",
   "language": "python",
   "name": "deepstate"
  },
  "language_info": {
   "codemirror_mode": {
    "name": "ipython",
    "version": 3
   },
   "file_extension": ".py",
   "mimetype": "text/x-python",
   "name": "python",
   "nbconvert_exporter": "python",
   "pygments_lexer": "ipython3",
   "version": "3.12.3"
  }
 },
 "nbformat": 4,
 "nbformat_minor": 5
}
